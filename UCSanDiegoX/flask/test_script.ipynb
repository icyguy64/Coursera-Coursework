{
 "cells": [
  {
   "cell_type": "code",
   "execution_count": 36,
   "metadata": {},
   "outputs": [
    {
     "name": "stdout",
     "output_type": "stream",
     "text": [
      "<Response [200]>\n",
      "{'results': {'results': 1}}\n"
     ]
    }
   ],
   "source": [
    "from my_app import app\n",
    "import json\n",
    "from flask import Flask, jsonify\n",
    "import requests\n",
    "\n",
    "\n",
    "# local url\n",
    "url = 'http://127.0.0.1:5000' # change to your url\n",
    "# sample data\n",
    "V1 = 1\n",
    "V2 = 1\n",
    "V3 = 1\n",
    "V4 = 1\n",
    "\n",
    "data = {'V1': V1,\n",
    "       'V2': V1,\n",
    "       'V3': V1,\n",
    "       'V4': V1,\n",
    "       'V5': V1,\n",
    "       'V6': V1,\n",
    "       'V7': V1,\n",
    "       'V8': V1,\n",
    "       'V9': V1,\n",
    "       'V10': V1,\n",
    "       'V11': V1,\n",
    "       'V12': V1,\n",
    "       'V13': V1,\n",
    "       'V14': V1,\n",
    "       'V15': V1,\n",
    "       'V16': V1,\n",
    "       'V17': V1,\n",
    "       'V18': V1,\n",
    "       'V19': V1,\n",
    "       'V20': V1,\n",
    "       'V21': V1,\n",
    "       'V22': V1,\n",
    "       'V23': V1,\n",
    "       'V24': V1,\n",
    "       'V25': V1,\n",
    "       'V26': V1,\n",
    "       'V27': V1,\n",
    "       'V28': V1,\n",
    "       'normAmount': V1\n",
    "       }\n",
    "\n",
    "data = json.dumps(data)\n",
    "send_request = requests.post(url, data)\n",
    "print(send_request)\n",
    "print(send_request.json())"
   ]
  },
  {
   "cell_type": "code",
   "execution_count": 29,
   "metadata": {},
   "outputs": [
    {
     "name": "stdout",
     "output_type": "stream",
     "text": [
      "<Response [200]>\n",
      "{'results': {'results': 1}}\n"
     ]
    }
   ],
   "source": [
    "import json\n",
    "from flask import Flask, jsonify\n",
    "import requests\n",
    "#with app.test_request_context('/',method='POST'):\n",
    "\n",
    "# heroku url\n",
    "heroku_url = 'https://titanic-flask-app.herokuapp.com/' # change to your app name\n",
    "# sample data\n",
    "data = {  'Pclass': 3\n",
    "             , 'Age': 2\n",
    "             , 'SibSp': 1\n",
    "             , 'Fare': 50}\n",
    "data = json.dumps(data)\n",
    "send_request = requests.post(heroku_url, data)\n",
    "print(send_request)\n",
    "print(send_request.json())\n"
   ]
  },
  {
   "cell_type": "code",
   "execution_count": null,
   "metadata": {},
   "outputs": [],
   "source": []
  }
 ],
 "metadata": {
  "kernelspec": {
   "display_name": "Python 3",
   "language": "python",
   "name": "python3"
  },
  "language_info": {
   "codemirror_mode": {
    "name": "ipython",
    "version": 3
   },
   "file_extension": ".py",
   "mimetype": "text/x-python",
   "name": "python",
   "nbconvert_exporter": "python",
   "pygments_lexer": "ipython3",
   "version": "3.7.6"
  }
 },
 "nbformat": 4,
 "nbformat_minor": 4
}
