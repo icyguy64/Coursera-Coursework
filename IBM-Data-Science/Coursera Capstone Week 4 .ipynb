{
    "nbformat_minor": 1, 
    "cells": [
        {
            "source": "# Question", 
            "cell_type": "markdown", 
            "metadata": {
                "collapsed": true
            }
        }, 
        {
            "source": "## A description of the problem and a discussion of the background. (15 marks)\n## A description of the data and how it will be used to solve the problem. (15 marks)", 
            "cell_type": "markdown", 
            "metadata": {}
        }, 
        {
            "source": "# Problem Statement\n\n## In London, my friend, Mark is looking to open a fast-food restaurant, where would I recommend that he open it?", 
            "cell_type": "markdown", 
            "metadata": {}
        }, 
        {
            "source": "# 1.1 Background\nWith the rise of Youtube, Facebook, Amazon and many other such web services, recommender systems have made an impact in the lives of millions of people. In general, recommender systems are algorithms tuned to suggest relevant information to users and these systems are critical in some industries and will continue to spread into new/uncharted territories/industries. In some cases, they generate income when they are efficient and can even help companies stand out against the competition. Therefore, it is very advantageous for companies to leverage on these systems to predict trends and human behaviour and patterns to better position themselves in the near future and long term. \n\n# 1.2 Problem\nData that will aid in location selection for restaurants will be number of restaurants operating in the vicinity,  the flow of people within the area, ratings of restaurants, number of trending locations and opening hours of restaurants in the area. This project aim to answer the following question: \"Where should you open a restaurant in London?\" based on these data.\n\n# 1.3 Interest\nBusiness owners/investors will be very interested in the use of recommender systems to aid in the location selection of restaurants. Accurate prediction of restaurant location will help businesses gain a competitive advantage and benefit financially. Patrons to restaurants will also be interested in the restaurants location as one would not go to a restaurant if it is deemed too far or inconvenient.", 
            "cell_type": "markdown", 
            "metadata": {}
        }, 
        {
            "source": "# 2. Data acquisition and cleaning\n\n# 2.1 Data Sources\nMost of the data can be obtained using the Foursquare API. Data such as restaurants location, ratings, user reviews, venue's tips, number of tips, opening hours and trending restaurants in the area can be obtained with the Foursquare API. Web scraping will also be used to obtain useful information such as a restaurants menu, affordability of a place, customer feedback and many others.\nA couple of websites will be scrapped using BeautifulSoup to aid in location selection.\n\n# 2.2 Data Cleaning Steps\nData downloaded or scraped from websites, foursquare, etc were combined and stored together in a table. Firstly, I'll check the data sets for potential problems such as whether it is necessary to normalized the features when combining them. Secondly, is to check for outliers in the data. From the data, I'll deduce and decide whether the outlier will affect or impact the location selection algorithm or is it better to just omit the dataset. Thirdly, is to check for missing values in the data. Finally, is to inspect the dataset to make sure that it is ready for the next step.\n\n# 2.3 Feature Selection\nAfter data cleaning, I'll check for redundancy in the features as it will affect the bias of the algorithm that will be used for location selection and we might have two different restaurant having exactly the same set of features. It is also important to check the correlation of independent variables as this will bias the results of the analysis. Highly correlated features, only one of them will be selected and the others will be dropped from the dataset.\n\n", 
            "cell_type": "markdown", 
            "metadata": {}
        }, 
        {
            "execution_count": null, 
            "cell_type": "code", 
            "metadata": {}, 
            "outputs": [], 
            "source": ""
        }
    ], 
    "metadata": {
        "kernelspec": {
            "display_name": "Python 3.6", 
            "name": "python3", 
            "language": "python"
        }, 
        "language_info": {
            "mimetype": "text/x-python", 
            "nbconvert_exporter": "python", 
            "version": "3.6.8", 
            "name": "python", 
            "file_extension": ".py", 
            "pygments_lexer": "ipython3", 
            "codemirror_mode": {
                "version": 3, 
                "name": "ipython"
            }
        }
    }, 
    "nbformat": 4
}